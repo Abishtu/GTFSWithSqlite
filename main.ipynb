{
 "cells": [
  {
   "cell_type": "code",
   "execution_count": 1,
   "metadata": {},
   "outputs": [],
   "source": [
    "import pandas as pd"
   ]
  },
  {
   "cell_type": "code",
   "execution_count": 2,
   "metadata": {},
   "outputs": [],
   "source": [
    "dataPath = './data'"
   ]
  },
  {
   "cell_type": "code",
   "execution_count": null,
   "metadata": {},
   "outputs": [
    {
     "ename": "NameError",
     "evalue": "name 'false' is not defined",
     "output_type": "error",
     "traceback": [
      "\u001b[31m---------------------------------------------------------------------------\u001b[39m",
      "\u001b[31mNameError\u001b[39m                                 Traceback (most recent call last)",
      "\u001b[36mCell\u001b[39m\u001b[36m \u001b[39m\u001b[32mIn[8]\u001b[39m\u001b[32m, line 6\u001b[39m\n\u001b[32m      4\u001b[39m calendar = pd.read_csv(\u001b[33mf\u001b[39m\u001b[33m'\u001b[39m\u001b[38;5;132;01m{\u001b[39;00mdataPath\u001b[38;5;132;01m}\u001b[39;00m\u001b[33m/calendar.txt\u001b[39m\u001b[33m'\u001b[39m)\n\u001b[32m      5\u001b[39m calendar_dates = pd.read_csv(\u001b[33mf\u001b[39m\u001b[33m'\u001b[39m\u001b[38;5;132;01m{\u001b[39;00mdataPath\u001b[38;5;132;01m}\u001b[39;00m\u001b[33m/calendar_dates.txt\u001b[39m\u001b[33m'\u001b[39m)\n\u001b[32m----> \u001b[39m\u001b[32m6\u001b[39m shapes = pd.read_csv(\u001b[33mf\u001b[39m\u001b[33m'\u001b[39m\u001b[38;5;132;01m{\u001b[39;00mdataPath\u001b[38;5;132;01m}\u001b[39;00m\u001b[33m/shapes.txt\u001b[39m\u001b[33m'\u001b[39m, low_memory=\u001b[43mfalse\u001b[49m)\n\u001b[32m      7\u001b[39m trips = pd.read_csv(\u001b[33mf\u001b[39m\u001b[33m'\u001b[39m\u001b[38;5;132;01m{\u001b[39;00mdataPath\u001b[38;5;132;01m}\u001b[39;00m\u001b[33m/trips.txt\u001b[39m\u001b[33m'\u001b[39m)\n\u001b[32m      8\u001b[39m stop_times = pd.read_csv(\u001b[33mf\u001b[39m\u001b[33m'\u001b[39m\u001b[38;5;132;01m{\u001b[39;00mdataPath\u001b[38;5;132;01m}\u001b[39;00m\u001b[33m/stop_times.txt\u001b[39m\u001b[33m'\u001b[39m)\n",
      "\u001b[31mNameError\u001b[39m: name 'false' is not defined"
     ]
    }
   ],
   "source": [
    "agency = pd.read_csv(f'{dataPath}/agency.txt')\n",
    "stops = pd.read_csv(f'{dataPath}/stops.txt')\n",
    "routes = pd.read_csv(f'{dataPath}/routes.txt')\n",
    "calendar = pd.read_csv(f'{dataPath}/calendar.txt')\n",
    "calendar_dates = pd.read_csv(f'{dataPath}/calendar_dates.txt')\n",
    "shapes = pd.read_csv(f'{dataPath}/shapes.txt', low_memory=False)\n",
    "trips = pd.read_csv(f'{dataPath}/trips.txt')\n",
    "stop_times = pd.read_csv(f'{dataPath}/stop_times.txt')"
   ]
  },
  {
   "cell_type": "code",
   "execution_count": null,
   "metadata": {},
   "outputs": [],
   "source": []
  }
 ],
 "metadata": {
  "kernelspec": {
   "display_name": ".venv",
   "language": "python",
   "name": "python3"
  },
  "language_info": {
   "codemirror_mode": {
    "name": "ipython",
    "version": 3
   },
   "file_extension": ".py",
   "mimetype": "text/x-python",
   "name": "python",
   "nbconvert_exporter": "python",
   "pygments_lexer": "ipython3",
   "version": "3.13.5"
  }
 },
 "nbformat": 4,
 "nbformat_minor": 2
}
